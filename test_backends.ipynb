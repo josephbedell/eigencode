{
 "cells": [
  {
   "cell_type": "code",
   "execution_count": 18,
   "metadata": {},
   "outputs": [],
   "source": [
    "from qiskit_ibm_runtime import QiskitRuntimeService\n",
    "\n",
    "token = '4c635c9b66b0ab2f37ce29d7bc33edc66f815847092ba236aa79748304b2cd4bbba6c35d8a4a6adc9b579b1990cfa8066f5220cbdc29044dc9bd59f1c1e1ea1b'\n",
    "instance = 'ibm-q/open/main'\n",
    "\n",
    "service = QiskitRuntimeService(\n",
    "        channel='ibm_quantum',\n",
    "        instance=instance,\n",
    "        token=token\n",
    ")"
   ]
  },
  {
   "cell_type": "code",
   "execution_count": 21,
   "metadata": {},
   "outputs": [
    {
     "name": "stdout",
     "output_type": "stream",
     "text": [
      "     ┌───┐               \n",
      "q_0: ┤ H ├──■────────────\n",
      "     ├───┤┌─┴─┐          \n",
      "q_1: ┤ H ├┤ X ├──■───────\n",
      "     ├───┤└───┘┌─┴─┐     \n",
      "q_2: ┤ H ├─────┤ X ├──■──\n",
      "     ├───┤     └───┘┌─┴─┐\n",
      "q_3: ┤ H ├──────────┤ X ├\n",
      "     └───┘          └───┘\n"
     ]
    }
   ],
   "source": [
    "from qiskit import QuantumCircuit\n",
    "\n",
    "def create_quantum_circuit(num_qubits):\n",
    "    qc = QuantumCircuit(num_qubits)\n",
    "    # Apply Hadamard gate to each qubit\n",
    "    for i in range(num_qubits):\n",
    "        qc.h(i)\n",
    "    # Apply CNOT gate between each pair of qubits\n",
    "    for i in range(num_qubits - 1):\n",
    "        qc.cx(i, i + 1)\n",
    "    return qc\n",
    "\n",
    "# Specify the number of qubits\n",
    "num_qubits = 4  # Change this value as needed\n",
    "qc = create_quantum_circuit(num_qubits)\n",
    "\n",
    "print(qc)"
   ]
  },
  {
   "cell_type": "code",
   "execution_count": 27,
   "metadata": {},
   "outputs": [
    {
     "name": "stdout",
     "output_type": "stream",
     "text": [
      "['ibm-q/open/main']\n",
      "[<IBMBackend('ibm_brisbane')>, <IBMBackend('ibm_sherbrooke')>, <IBMBackend('ibm_kyiv')>]\n"
     ]
    }
   ],
   "source": [
    "print(service.instances())\n",
    "print(service.backends())"
   ]
  },
  {
   "cell_type": "code",
   "execution_count": 33,
   "metadata": {},
   "outputs": [
    {
     "name": "stdout",
     "output_type": "stream",
     "text": [
      "[<IBMBackend('ibm_brisbane')>, <IBMBackend('ibm_sherbrooke')>, <IBMBackend('ibm_kyiv')>]\n",
      "Ideal backend: <IBMBackend('ibm_brisbane')>\n"
     ]
    },
    {
     "name": "stderr",
     "output_type": "stream",
     "text": [
      "/home/jbedell/anaconda3/envs/pyenv-eigen/lib/python3.13/site-packages/qiskit_ibm_runtime/utils/validations.py:45: UserWarning: The 0-th circuit has no output classical registers so the result will be empty. Did you mean to add measurement instructions?\n",
      "  warnings.warn(\n"
     ]
    },
    {
     "ename": "IBMInputValueError",
     "evalue": "'The instruction h on qubits (0,) is not supported by the target system. Circuits that do not match the target hardware definition are no longer supported after March 4, 2024. See the transpilation documentation (https://docs.quantum.ibm.com/guides/transpile) for instructions to transform circuits and the primitive examples (https://docs.quantum.ibm.com/guides/primitives-examples) to see this coupled with operator transformations.'",
     "output_type": "error",
     "traceback": [
      "\u001b[0;31m---------------------------------------------------------------------------\u001b[0m",
      "\u001b[0;31mIBMInputValueError\u001b[0m                        Traceback (most recent call last)",
      "Cell \u001b[0;32mIn[33], line 15\u001b[0m\n\u001b[1;32m     13\u001b[0m \u001b[38;5;28;01mwith\u001b[39;00m Session(backend\u001b[38;5;241m=\u001b[39mideal_backend) \u001b[38;5;28;01mas\u001b[39;00m session:\n\u001b[1;32m     14\u001b[0m     sampler \u001b[38;5;241m=\u001b[39m Sampler(mode\u001b[38;5;241m=\u001b[39msession)\n\u001b[0;32m---> 15\u001b[0m     job \u001b[38;5;241m=\u001b[39m \u001b[43msampler\u001b[49m\u001b[38;5;241;43m.\u001b[39;49m\u001b[43mrun\u001b[49m\u001b[43m(\u001b[49m\u001b[43mpubs\u001b[49m\u001b[38;5;241;43m=\u001b[39;49m\u001b[43m[\u001b[49m\u001b[43mqc\u001b[49m\u001b[43m]\u001b[49m\u001b[43m)\u001b[49m\n\u001b[1;32m     16\u001b[0m     ideal_result \u001b[38;5;241m=\u001b[39m job\u001b[38;5;241m.\u001b[39mresult()\n\u001b[1;32m     17\u001b[0m     ideal_statevector \u001b[38;5;241m=\u001b[39m ideal_result\u001b[38;5;241m.\u001b[39mget_statevector()\n",
      "File \u001b[0;32m~/anaconda3/envs/pyenv-eigen/lib/python3.13/site-packages/qiskit_ibm_runtime/sampler.py:110\u001b[0m, in \u001b[0;36mSamplerV2.run\u001b[0;34m(self, pubs, shots)\u001b[0m\n\u001b[1;32m    106\u001b[0m coerced_pubs \u001b[38;5;241m=\u001b[39m [SamplerPub\u001b[38;5;241m.\u001b[39mcoerce(pub, shots) \u001b[38;5;28;01mfor\u001b[39;00m pub \u001b[38;5;129;01min\u001b[39;00m pubs]\n\u001b[1;32m    108\u001b[0m validate_classical_registers(coerced_pubs)\n\u001b[0;32m--> 110\u001b[0m \u001b[38;5;28;01mreturn\u001b[39;00m \u001b[38;5;28;43mself\u001b[39;49m\u001b[38;5;241;43m.\u001b[39;49m\u001b[43m_run\u001b[49m\u001b[43m(\u001b[49m\u001b[43mcoerced_pubs\u001b[49m\u001b[43m)\u001b[49m\n",
      "File \u001b[0;32m~/anaconda3/envs/pyenv-eigen/lib/python3.13/site-packages/qiskit_ibm_runtime/base_primitive.py:162\u001b[0m, in \u001b[0;36mBasePrimitiveV2._run\u001b[0;34m(self, pubs)\u001b[0m\n\u001b[1;32m    160\u001b[0m \u001b[38;5;28;01mfor\u001b[39;00m pub \u001b[38;5;129;01min\u001b[39;00m pubs:\n\u001b[1;32m    161\u001b[0m     \u001b[38;5;28;01mif\u001b[39;00m \u001b[38;5;28mgetattr\u001b[39m(\u001b[38;5;28mself\u001b[39m\u001b[38;5;241m.\u001b[39m_backend, \u001b[38;5;124m\"\u001b[39m\u001b[38;5;124mtarget\u001b[39m\u001b[38;5;124m\"\u001b[39m, \u001b[38;5;28;01mNone\u001b[39;00m) \u001b[38;5;129;01mand\u001b[39;00m \u001b[38;5;129;01mnot\u001b[39;00m is_simulator(\u001b[38;5;28mself\u001b[39m\u001b[38;5;241m.\u001b[39m_backend):\n\u001b[0;32m--> 162\u001b[0m         \u001b[43mvalidate_isa_circuits\u001b[49m\u001b[43m(\u001b[49m\u001b[43m[\u001b[49m\u001b[43mpub\u001b[49m\u001b[38;5;241;43m.\u001b[39;49m\u001b[43mcircuit\u001b[49m\u001b[43m]\u001b[49m\u001b[43m,\u001b[49m\u001b[43m \u001b[49m\u001b[38;5;28;43mself\u001b[39;49m\u001b[38;5;241;43m.\u001b[39;49m\u001b[43m_backend\u001b[49m\u001b[38;5;241;43m.\u001b[39;49m\u001b[43mtarget\u001b[49m\u001b[43m)\u001b[49m\n\u001b[1;32m    164\u001b[0m     \u001b[38;5;28;01mif\u001b[39;00m \u001b[38;5;28misinstance\u001b[39m(\u001b[38;5;28mself\u001b[39m\u001b[38;5;241m.\u001b[39m_backend, IBMBackend):\n\u001b[1;32m    165\u001b[0m         \u001b[38;5;28mself\u001b[39m\u001b[38;5;241m.\u001b[39m_backend\u001b[38;5;241m.\u001b[39mcheck_faulty(pub\u001b[38;5;241m.\u001b[39mcircuit)\n",
      "File \u001b[0;32m~/anaconda3/envs/pyenv-eigen/lib/python3.13/site-packages/qiskit_ibm_runtime/utils/validations.py:95\u001b[0m, in \u001b[0;36mvalidate_isa_circuits\u001b[0;34m(circuits, target)\u001b[0m\n\u001b[1;32m     93\u001b[0m message \u001b[38;5;241m=\u001b[39m is_isa_circuit(circuit, target)\n\u001b[1;32m     94\u001b[0m \u001b[38;5;28;01mif\u001b[39;00m message:\n\u001b[0;32m---> 95\u001b[0m     \u001b[38;5;28;01mraise\u001b[39;00m IBMInputValueError(\n\u001b[1;32m     96\u001b[0m         message\n\u001b[1;32m     97\u001b[0m         \u001b[38;5;241m+\u001b[39m \u001b[38;5;124m\"\u001b[39m\u001b[38;5;124m Circuits that do not match the target hardware definition are no longer \u001b[39m\u001b[38;5;124m\"\u001b[39m\n\u001b[1;32m     98\u001b[0m         \u001b[38;5;124m\"\u001b[39m\u001b[38;5;124msupported after March 4, 2024. See the transpilation documentation \u001b[39m\u001b[38;5;124m\"\u001b[39m\n\u001b[1;32m     99\u001b[0m         \u001b[38;5;124m\"\u001b[39m\u001b[38;5;124m(https://docs.quantum.ibm.com/guides/transpile) for instructions \u001b[39m\u001b[38;5;124m\"\u001b[39m\n\u001b[1;32m    100\u001b[0m         \u001b[38;5;124m\"\u001b[39m\u001b[38;5;124mto transform circuits and the primitive examples \u001b[39m\u001b[38;5;124m\"\u001b[39m\n\u001b[1;32m    101\u001b[0m         \u001b[38;5;124m\"\u001b[39m\u001b[38;5;124m(https://docs.quantum.ibm.com/guides/primitives-examples) to see \u001b[39m\u001b[38;5;124m\"\u001b[39m\n\u001b[1;32m    102\u001b[0m         \u001b[38;5;124m\"\u001b[39m\u001b[38;5;124mthis coupled with operator transformations.\u001b[39m\u001b[38;5;124m\"\u001b[39m\n\u001b[1;32m    103\u001b[0m     )\n",
      "\u001b[0;31mIBMInputValueError\u001b[0m: 'The instruction h on qubits (0,) is not supported by the target system. Circuits that do not match the target hardware definition are no longer supported after March 4, 2024. See the transpilation documentation (https://docs.quantum.ibm.com/guides/transpile) for instructions to transform circuits and the primitive examples (https://docs.quantum.ibm.com/guides/primitives-examples) to see this coupled with operator transformations.'"
     ]
    }
   ],
   "source": [
    "from qiskit_ibm_runtime import Session, Sampler\n",
    "from qiskit.transpiler.preset_passmanagers import generate_preset_pass_manager\n",
    "from qiskit.quantum_info import state_fidelity\n",
    "\n",
    "# List of backends to iterate through\n",
    "# Get the list of available backends\n",
    "#backends = ['ibm_brisbane', 'ibm_sherbrooke', 'ibm_kyiv']\n",
    "#backends =service.backends()\n",
    "#print(backends)\n",
    "\n",
    "backend_names = ['ibm_brisbane', 'ibm_sherbrooke', 'ibm_kyiv']\n",
    "\n",
    "ideal_backend = service.backend(backend_names[0])\n",
    "for backend_name in backend_names:\n",
    "    backend = service.backend(backend_name)\n",
    "    pass_Manager = generate_preset_pass_manager(optimization_level=1, backend=backend)\n",
    "\n",
    "qc_transpiled = pass_Manager.run(qc)\n",
    "operators_transpiled_list = [op.apply_layout(qc_transpiled.layout) for op in operators]\n",
    "\n",
    "# Ideal state vector (assuming the ideal backend is the first one in the list)\n",
    "ideal_backend = backends[0]\n",
    "print(f\"Ideal backend: {ideal_backend}\")\n",
    "with Session(backend=ideal_backend) as session:\n",
    "    sampler = Sampler(mode=session)\n",
    "    job = sampler.run(pubs=[qc])\n",
    "    ideal_result = job.result()\n",
    "    ideal_statevector = ideal_result.get_statevector()\n",
    "\n",
    "# Store results\n",
    "results = []\n",
    "\n",
    "# Iterate through the backends and compare results\n",
    "for backend_name in backends:\n",
    "    with Session(service=service, backend=backend_name) as session:\n",
    "        sampler = Sampler(mode=session)\n",
    "        job = sampler.run(pubs=qc)\n",
    "        result = job.result()\n",
    "        prepared_statevector = result.get_statevector()\n",
    "        \n",
    "        # Calculate fidelity\n",
    "        fidelity = state_fidelity(ideal_statevector, prepared_statevector)\n",
    "        results.append((backend_name, fidelity))\n",
    "\n",
    "# Display results\n",
    "import pandas as pd\n",
    "\n",
    "df = pd.DataFrame(results, columns=['Backend', 'Fidelity'])\n",
    "print(df)"
   ]
  },
  {
   "cell_type": "code",
   "execution_count": null,
   "metadata": {},
   "outputs": [],
   "source": [
    "import matplotlib.pyplot as plt\n",
    "\n",
    "# Display the results as a table\n",
    "print(df)\n",
    "\n",
    "# Plot the results\n",
    "plt.figure(figsize=(10, 6))\n",
    "plt.bar(df['Backend'], df['Fidelity'], color='blue')\n",
    "plt.xlabel('Backend')\n",
    "plt.ylabel('Fidelity')\n",
    "plt.title('Fidelity of Quantum Circuit Execution on Different Backends')\n",
    "plt.show()"
   ]
  },
  {
   "cell_type": "code",
   "execution_count": null,
   "metadata": {},
   "outputs": [],
   "source": []
  }
 ],
 "metadata": {
  "kernelspec": {
   "display_name": "pyenv-eigen",
   "language": "python",
   "name": "python3"
  },
  "language_info": {
   "codemirror_mode": {
    "name": "ipython",
    "version": 3
   },
   "file_extension": ".py",
   "mimetype": "text/x-python",
   "name": "python",
   "nbconvert_exporter": "python",
   "pygments_lexer": "ipython3",
   "version": "3.13.1"
  }
 },
 "nbformat": 4,
 "nbformat_minor": 2
}
