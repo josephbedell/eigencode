{
 "cells": [
  {
   "cell_type": "code",
   "execution_count": 74,
   "metadata": {},
   "outputs": [],
   "source": [
    "from qiskit_ibm_runtime import QiskitRuntimeService\n",
    "\n",
    "token = '4c635c9b66b0ab2f37ce29d7bc33edc66f815847092ba236aa79748304b2cd4bbba6c35d8a4a6adc9b579b1990cfa8066f5220cbdc29044dc9bd59f1c1e1ea1b'\n",
    "instance = 'ibm-q/open/main'\n",
    "\n",
    "service = QiskitRuntimeService(\n",
    "        channel='ibm_quantum',\n",
    "        instance=instance,\n",
    "        token=token\n",
    ")\n",
    "\n",
    "# Save your IBM Quantum API key in\n",
    "# ~/.qiskit/qiskit-ibm.json\n",
    "service.save_account(channel=\"ibm_quantum\", \n",
    "                                  token=token,\n",
    "                                  overwrite=True)"
   ]
  },
  {
   "cell_type": "markdown",
   "metadata": {},
   "source": [
    "## Define the Quantum Circuit (qc)"
   ]
  },
  {
   "cell_type": "code",
   "execution_count": 75,
   "metadata": {},
   "outputs": [
    {
     "name": "stdout",
     "output_type": "stream",
     "text": [
      "      ┌───┐          ┌─┐                              \n",
      " q_0: ┤ H ├──■───────┤M├──────────────────────────────\n",
      "      ├───┤┌─┴─┐     └╥┘     ┌─┐                      \n",
      " q_1: ┤ H ├┤ X ├──■───╫──────┤M├──────────────────────\n",
      "      ├───┤└───┘┌─┴─┐ ║      └╥┘     ┌─┐              \n",
      " q_2: ┤ H ├─────┤ X ├─╫───■───╫──────┤M├──────────────\n",
      "      ├───┤     └───┘ ║ ┌─┴─┐ ║      └╥┘     ┌─┐      \n",
      " q_3: ┤ H ├───────────╫─┤ X ├─╫───■───╫──────┤M├──────\n",
      "      ├───┤           ║ └───┘ ║ ┌─┴─┐ ║      └╥┘┌─┐   \n",
      " q_4: ┤ H ├───────────╫───────╫─┤ X ├─╫───■───╫─┤M├───\n",
      "      ├───┤           ║       ║ └───┘ ║ ┌─┴─┐ ║ └╥┘┌─┐\n",
      " q_5: ┤ H ├───────────╫───────╫───────╫─┤ X ├─╫──╫─┤M├\n",
      "      └───┘           ║       ║       ║ └───┘ ║  ║ └╥┘\n",
      "c3: 6/════════════════╩═══════╩═══════╩═══════╩══╩══╩═\n",
      "                      0       1       2       3  4  5 \n"
     ]
    }
   ],
   "source": [
    "from qiskit import QuantumCircuit, ClassicalRegister\n",
    "\n",
    "def create_quantum_circuit(num_qubits):\n",
    "    qc = QuantumCircuit(num_qubits)\n",
    "    # Apply Hadamard gate to each qubit\n",
    "    for i in range(num_qubits):\n",
    "        qc.h(i)\n",
    "    # Apply CNOT gate between each pair of qubits\n",
    "    for i in range(num_qubits - 1):\n",
    "        qc.cx(i, i + 1)\n",
    "    # Add classical registers and measurements\n",
    "    cr = ClassicalRegister(num_qubits)\n",
    "    qc.add_register(cr)\n",
    "    qc.measure(range(num_qubits), range(num_qubits))\n",
    "    return qc\n",
    "\n",
    "# Specify the number of qubits\n",
    "num_qubits = 6  # Change this value as needed\n",
    "qc = create_quantum_circuit(num_qubits)\n",
    "\n",
    "print(qc)"
   ]
  },
  {
   "cell_type": "markdown",
   "metadata": {},
   "source": [
    "### Print out the IBM Quantum details: instances and backends \n",
    "- to be used for Testing quality of backends at different qubit sizes"
   ]
  },
  {
   "cell_type": "code",
   "execution_count": 115,
   "metadata": {},
   "outputs": [
    {
     "name": "stdout",
     "output_type": "stream",
     "text": [
      "['ibm-q/open/main']\n",
      "[<IBMBackend('ibm_sherbrooke')>, <IBMBackend('ibm_kyiv')>, <IBMBackend('ibm_brisbane')>]\n",
      "backend_names = ['ibm_sherbrooke', 'ibm_kyiv', 'ibm_brisbane']\n"
     ]
    }
   ],
   "source": [
    "print(service.instances())\n",
    "print(service.backends())\n",
    "\n",
    "print(f\"backend_names = {[backend.name for backend in service.backends()]}\")"
   ]
  },
  {
   "cell_type": "markdown",
   "metadata": {},
   "source": [
    "## Run the Sampler program across the QuantumCircuit(qc) and Backends defined above\n",
    "- uses the service() account logged into at the top with the given token\n",
    "- token should be saved in ~/.qiskit/"
   ]
  },
  {
   "cell_type": "code",
   "execution_count": 82,
   "metadata": {},
   "outputs": [],
   "source": [
    "from qiskit_ibm_runtime import Session, Sampler\n",
    "from qiskit.transpiler.preset_passmanagers import generate_preset_pass_manager\n",
    "from qiskit_ibm_runtime import Options\n",
    "options = Options()\n",
    "options.optimization_level = 1\n",
    "options.resilience_level = 1\n",
    "\n",
    "# List of backend names\n",
    "backend_names = ['ibm_brisbane', 'ibm_sherbrooke', 'ibm_kyiv']  # Replace with your list of backends\n",
    "\n",
    "def run_program(backend_name, qc):\n",
    "    # Get the backend\n",
    "    backend = service.backend(backend_name)\n",
    "    # Set up pass_manager for backend\n",
    "    pass_manager = generate_preset_pass_manager(optimization_level=1, backend=backend)\n",
    "\n",
    "    # Run pass_manager through transpiler\n",
    "    qc_transpiled = pass_manager.run(qc)\n",
    "\n",
    "    # Run the Sampler job\n",
    "    with Session(service=service, backend=backend) as session:\n",
    "        sampler = Sampler(session=session)\n",
    "        job = sampler.run(circuits=[qc_transpiled])\n",
    "    \n",
    "    return job.job_id()\n",
    "\n",
    "# Run the jobs on the backends and capture job_id and backend_name\n",
    "jobs_backend = []\n",
    "for backend_name in backend_names:\n",
    "    job_id = run_program(backend_name, qc)\n",
    "    jobs_backend.append((job_id, backend_name))\n",
    "\n",
    "print(jobs_backend)"
   ]
  },
  {
   "cell_type": "markdown",
   "metadata": {},
   "source": [
    "### When programs are finished, call the job_ids and compare results"
   ]
  },
  {
   "cell_type": "code",
   "execution_count": 119,
   "metadata": {},
   "outputs": [
    {
     "name": "stdout",
     "output_type": "stream",
     "text": [
      "[('cxwq5gp4a290008xy8g0', 'ibm_brisbane'), ('cxwq5hywk6yg008j15e0', 'ibm_sherbrooke'), ('cxwq5ke4a290008xy8gg', 'ibm_kyiv')]\n",
      "Getting result for ibm_brisbane: cxwq5gp4a290008xy8g0\n"
     ]
    },
    {
     "name": "stdout",
     "output_type": "stream",
     "text": [
      "Getting result for ibm_sherbrooke: cxwq5hywk6yg008j15e0\n",
      "Getting result for ibm_kyiv: cxwq5ke4a290008xy8gg\n"
     ]
    },
    {
     "ename": "AttributeError",
     "evalue": "'PrimitiveResult' object has no attribute 'quasi_dists'",
     "output_type": "error",
     "traceback": [
      "\u001b[0;31m---------------------------------------------------------------------------\u001b[0m",
      "\u001b[0;31mAttributeError\u001b[0m                            Traceback (most recent call last)",
      "Cell \u001b[0;32mIn[119], line 16\u001b[0m\n\u001b[1;32m     14\u001b[0m \u001b[38;5;28;01mfor\u001b[39;00m result, backend_name \u001b[38;5;129;01min\u001b[39;00m results:\n\u001b[1;32m     15\u001b[0m     state_vector \u001b[38;5;241m=\u001b[39m Statevector\u001b[38;5;241m.\u001b[39mfrom_label(\u001b[38;5;124m'\u001b[39m\u001b[38;5;124m0\u001b[39m\u001b[38;5;124m'\u001b[39m \u001b[38;5;241m*\u001b[39m num_qubits)\n\u001b[0;32m---> 16\u001b[0m     \u001b[38;5;28;01mfor\u001b[39;00m bitstring, probability \u001b[38;5;129;01min\u001b[39;00m \u001b[43mresult\u001b[49m\u001b[38;5;241;43m.\u001b[39;49m\u001b[43mquasi_dists\u001b[49m[\u001b[38;5;241m0\u001b[39m]\u001b[38;5;241m.\u001b[39mitems():\n\u001b[1;32m     17\u001b[0m         state_vector \u001b[38;5;241m+\u001b[39m\u001b[38;5;241m=\u001b[39m Statevector\u001b[38;5;241m.\u001b[39mfrom_label(bitstring) \u001b[38;5;241m*\u001b[39m probability\n\u001b[1;32m     18\u001b[0m     state_vectors\u001b[38;5;241m.\u001b[39mappend((state_vector, backend_name))\n",
      "\u001b[0;31mAttributeError\u001b[0m: 'PrimitiveResult' object has no attribute 'quasi_dists'"
     ]
    }
   ],
   "source": [
    "import pandas as pd\n",
    "import matplotlib.pyplot as plt\n",
    "from qiskit.quantum_info import state_fidelity, Statevector\n",
    "\n",
    "print(jobs_backend)\n",
    "\n",
    "results = {}\n",
    "for job_id, backend_name in jobs_backend:\n",
    "    print(f\"Getting result for {backend_name}: {job_id}\")\n",
    "    job = service.job(job_id)\n",
    "    result = job.result()\n",
    "    counts = result.get_counts()\n",
    "    results[backend_name] = counts\n",
    "\n",
    "# Convert results to a DataFrame\n",
    "df = pd.DataFrame(results)\n",
    "\n",
    "# Display the results as a table\n",
    "print(df)\n",
    "\n",
    "# Plot the results\n",
    "df.plot(kind='bar', figsize=(10, 6))\n",
    "plt.xlabel('Measurement Outcome')\n",
    "plt.ylabel('Counts')\n",
    "plt.title('Measurement Outcomes on Different Backends')\n",
    "plt.show()\n",
    "\n",
    "# Calculate and display fidelity between the results of different backends\n",
    "ideal_backend = backend_names[0]\n",
    "ideal_counts = results[ideal_backend]\n",
    "\n",
    "fidelities = {}\n",
    "for backend_name in backend_names[1:]:\n",
    "    fidelity = state_fidelity(ideal_counts, results[backend_name])\n",
    "    fidelities[backend_name] = fidelity\n",
    "\n",
    "print(f\"Fidelities compared to {ideal_backend}:\")\n",
    "for backend_name, fidelity in fidelities.items():\n",
    "    print(f\"{backend_name}: {fidelity}\")"
   ]
  },
  {
   "cell_type": "code",
   "execution_count": null,
   "metadata": {},
   "outputs": [],
   "source": [
    "jobs_backend = [('cxwq5gp4a290008xy8g0', 'ibm_brisbane'), ('cxwq5hywk6yg008j15e0', 'ibm_sherbrooke'), ('cxwq5ke4a290008xy8gg', 'ibm_kyiv')]\n"
   ]
  },
  {
   "cell_type": "code",
   "execution_count": null,
   "metadata": {},
   "outputs": [],
   "source": []
  }
 ],
 "metadata": {
  "kernelspec": {
   "display_name": "pyenv-eigen",
   "language": "python",
   "name": "python3"
  },
  "language_info": {
   "codemirror_mode": {
    "name": "ipython",
    "version": 3
   },
   "file_extension": ".py",
   "mimetype": "text/x-python",
   "name": "python",
   "nbconvert_exporter": "python",
   "pygments_lexer": "ipython3",
   "version": "3.13.1"
  }
 },
 "nbformat": 4,
 "nbformat_minor": 2
}
