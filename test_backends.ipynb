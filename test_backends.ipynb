{
 "cells": [
  {
   "cell_type": "code",
   "execution_count": 74,
   "metadata": {},
   "outputs": [],
   "source": [
    "from qiskit_ibm_runtime import QiskitRuntimeService\n",
    "\n",
    "token = '4c635c9b66b0ab2f37ce29d7bc33edc66f815847092ba236aa79748304b2cd4bbba6c35d8a4a6adc9b579b1990cfa8066f5220cbdc29044dc9bd59f1c1e1ea1b'\n",
    "instance = 'ibm-q/open/main'\n",
    "\n",
    "service = QiskitRuntimeService(\n",
    "        channel='ibm_quantum',\n",
    "        instance=instance,\n",
    "        token=token\n",
    ")\n",
    "\n",
    "# Save your IBM Quantum API key in\n",
    "# ~/.qiskit/qiskit-ibm.json\n",
    "service.save_account(channel=\"ibm_quantum\", \n",
    "                                  token=token,\n",
    "                                  overwrite=True)"
   ]
  },
  {
   "cell_type": "code",
   "execution_count": 75,
   "metadata": {},
   "outputs": [
    {
     "name": "stdout",
     "output_type": "stream",
     "text": [
      "      ┌───┐          ┌─┐                              \n",
      " q_0: ┤ H ├──■───────┤M├──────────────────────────────\n",
      "      ├───┤┌─┴─┐     └╥┘     ┌─┐                      \n",
      " q_1: ┤ H ├┤ X ├──■───╫──────┤M├──────────────────────\n",
      "      ├───┤└───┘┌─┴─┐ ║      └╥┘     ┌─┐              \n",
      " q_2: ┤ H ├─────┤ X ├─╫───■───╫──────┤M├──────────────\n",
      "      ├───┤     └───┘ ║ ┌─┴─┐ ║      └╥┘     ┌─┐      \n",
      " q_3: ┤ H ├───────────╫─┤ X ├─╫───■───╫──────┤M├──────\n",
      "      ├───┤           ║ └───┘ ║ ┌─┴─┐ ║      └╥┘┌─┐   \n",
      " q_4: ┤ H ├───────────╫───────╫─┤ X ├─╫───■───╫─┤M├───\n",
      "      ├───┤           ║       ║ └───┘ ║ ┌─┴─┐ ║ └╥┘┌─┐\n",
      " q_5: ┤ H ├───────────╫───────╫───────╫─┤ X ├─╫──╫─┤M├\n",
      "      └───┘           ║       ║       ║ └───┘ ║  ║ └╥┘\n",
      "c3: 6/════════════════╩═══════╩═══════╩═══════╩══╩══╩═\n",
      "                      0       1       2       3  4  5 \n"
     ]
    }
   ],
   "source": [
    "from qiskit import QuantumCircuit, ClassicalRegister\n",
    "\n",
    "def create_quantum_circuit(num_qubits):\n",
    "    qc = QuantumCircuit(num_qubits)\n",
    "    # Apply Hadamard gate to each qubit\n",
    "    for i in range(num_qubits):\n",
    "        qc.h(i)\n",
    "    # Apply CNOT gate between each pair of qubits\n",
    "    for i in range(num_qubits - 1):\n",
    "        qc.cx(i, i + 1)\n",
    "    # Add classical registers and measurements\n",
    "    cr = ClassicalRegister(num_qubits)\n",
    "    qc.add_register(cr)\n",
    "    qc.measure(range(num_qubits), range(num_qubits))\n",
    "    return qc\n",
    "\n",
    "# Specify the number of qubits\n",
    "num_qubits = 6  # Change this value as needed\n",
    "qc = create_quantum_circuit(num_qubits)\n",
    "\n",
    "print(qc)"
   ]
  },
  {
   "cell_type": "code",
   "execution_count": 76,
   "metadata": {},
   "outputs": [
    {
     "name": "stdout",
     "output_type": "stream",
     "text": [
      "['ibm-q/open/main']\n"
     ]
    },
    {
     "name": "stdout",
     "output_type": "stream",
     "text": [
      "[<IBMBackend('ibm_sherbrooke')>, <IBMBackend('ibm_kyiv')>, <IBMBackend('ibm_brisbane')>]\n"
     ]
    }
   ],
   "source": [
    "print(service.instances())\n",
    "print(service.backends())"
   ]
  },
  {
   "cell_type": "code",
   "execution_count": 82,
   "metadata": {},
   "outputs": [],
   "source": [
    "from qiskit_ibm_runtime import Session, Sampler\n",
    "from qiskit.transpiler.preset_passmanagers import generate_preset_pass_manager\n",
    "from qiskit.quantum_info import state_fidelity\n",
    "from qiskit_ibm_runtime import RuntimeJob\n",
    "\n",
    "\n",
    "def run_program(backend_name, qc):\n",
    "    # Get the backend\n",
    "    backend = service.backend(backend_name)\n",
    "    # set up pass_manager for backend\n",
    "    pass_Manager = generate_preset_pass_manager(optimization_level=1, backend=backend)\n",
    "\n",
    "    # Run pass_Manager thru transpiler (after 3/2024)\n",
    "    qc_transpiled = pass_Manager.run(qc)\n",
    "\n",
    "    # Run the Sampler job\n",
    "    sampler = Sampler(mode=backend)\n",
    "    job = sampler.run(pubs=[qc_transpiled])\n",
    "    \n",
    "    job_id = job.job_id()\n",
    "    return job_id\n",
    "\n",
    "backend_names = ['ibm_brisbane', 'ibm_sherbrooke', 'ibm_kyiv']\n",
    "\n",
    "jobs_backend = []\n",
    "for backend_name in backend_names:\n",
    "    job_id = run_program(backend_name, qc)\n",
    "    jobs_backend.append((job_id, backend_name))\n",
    "\n",
    "print(jobs_backend)"
   ]
  },
  {
   "cell_type": "code",
   "execution_count": 86,
   "metadata": {},
   "outputs": [
    {
     "name": "stdout",
     "output_type": "stream",
     "text": [
      "[('cxwq5gp4a290008xy8g0', 'ibm_brisbane'), ('cxwq5hywk6yg008j15e0', 'ibm_sherbrooke'), ('cxwq5ke4a290008xy8gg', 'ibm_kyiv')]\n",
      "Getting result for ibm_brisbane: cxwq5gp4a290008xy8g0\n",
      "Getting result for ibm_sherbrooke: cxwq5hywk6yg008j15e0\n",
      "Getting result for ibm_kyiv: cxwq5ke4a290008xy8gg\n"
     ]
    },
    {
     "ename": "AttributeError",
     "evalue": "'PrimitiveResult' object has no attribute 'cr2'",
     "output_type": "error",
     "traceback": [
      "\u001b[0;31m---------------------------------------------------------------------------\u001b[0m",
      "\u001b[0;31mAttributeError\u001b[0m                            Traceback (most recent call last)",
      "Cell \u001b[0;32mIn[86], line 15\u001b[0m\n\u001b[1;32m     13\u001b[0m \u001b[38;5;28;01mfor\u001b[39;00m i \u001b[38;5;129;01min\u001b[39;00m \u001b[38;5;28mrange\u001b[39m(\u001b[38;5;28mlen\u001b[39m(results)):\n\u001b[1;32m     14\u001b[0m     \u001b[38;5;28;01mfor\u001b[39;00m j \u001b[38;5;129;01min\u001b[39;00m \u001b[38;5;28mrange\u001b[39m(i \u001b[38;5;241m+\u001b[39m \u001b[38;5;241m1\u001b[39m, \u001b[38;5;28mlen\u001b[39m(results)):\n\u001b[0;32m---> 15\u001b[0m         fidelity \u001b[38;5;241m=\u001b[39m state_fidelity(\u001b[43mresults\u001b[49m\u001b[43m[\u001b[49m\u001b[43mi\u001b[49m\u001b[43m]\u001b[49m\u001b[43m[\u001b[49m\u001b[38;5;241;43m0\u001b[39;49m\u001b[43m]\u001b[49m\u001b[38;5;241;43m.\u001b[39;49m\u001b[43mcr2\u001b[49m\u001b[38;5;241m.\u001b[39mquasi_dists[\u001b[38;5;241m0\u001b[39m], results[j][\u001b[38;5;241m0\u001b[39m]\u001b[38;5;241m.\u001b[39mcr2\u001b[38;5;241m.\u001b[39mquasi_dists[\u001b[38;5;241m0\u001b[39m])\n\u001b[1;32m     16\u001b[0m         \u001b[38;5;28mprint\u001b[39m(\u001b[38;5;124mf\u001b[39m\u001b[38;5;124m\"\u001b[39m\u001b[38;5;124mFidelity between \u001b[39m\u001b[38;5;132;01m{\u001b[39;00mresults[i][\u001b[38;5;241m1\u001b[39m]\u001b[38;5;132;01m}\u001b[39;00m\u001b[38;5;124m and \u001b[39m\u001b[38;5;132;01m{\u001b[39;00mresults[j][\u001b[38;5;241m1\u001b[39m]\u001b[38;5;132;01m}\u001b[39;00m\u001b[38;5;124m: \u001b[39m\u001b[38;5;132;01m{\u001b[39;00mfidelity\u001b[38;5;132;01m}\u001b[39;00m\u001b[38;5;124m\"\u001b[39m)\n",
      "\u001b[0;31mAttributeError\u001b[0m: 'PrimitiveResult' object has no attribute 'cr2'"
     ]
    }
   ],
   "source": [
    "from qiskit.quantum_info import state_fidelity\n",
    "\n",
    "print(jobs_backend)\n",
    "\n",
    "results = []\n",
    "for job_id, backend_name in jobs_backend:\n",
    "    print(f\"Getting result for {backend_name}: {job_id}\")\n",
    "    job = service.job(job_id)\n",
    "    result = job.result()\n",
    "    results.append((result, backend_name))\n",
    "\n",
    "# Compare results\n",
    "for i in range(len(results)):\n",
    "    for j in range(i + 1, len(results)):\n",
    "        fidelity = state_fidelity(results[i][0].data.quasi_dists[0], results[j][0].data.quasi_dists[0])\n",
    "        print(f\"Fidelity between {results[i][1]} and {results[j][1]}: {fidelity}\")"
   ]
  },
  {
   "cell_type": "code",
   "execution_count": null,
   "metadata": {},
   "outputs": [],
   "source": []
  }
 ],
 "metadata": {
  "kernelspec": {
   "display_name": "pyenv-eigen",
   "language": "python",
   "name": "python3"
  },
  "language_info": {
   "codemirror_mode": {
    "name": "ipython",
    "version": 3
   },
   "file_extension": ".py",
   "mimetype": "text/x-python",
   "name": "python",
   "nbconvert_exporter": "python",
   "pygments_lexer": "ipython3",
   "version": "3.13.1"
  }
 },
 "nbformat": 4,
 "nbformat_minor": 2
}
