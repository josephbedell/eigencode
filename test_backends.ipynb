{
 "cells": [
  {
   "cell_type": "code",
   "execution_count": 74,
   "metadata": {},
   "outputs": [],
   "source": [
    "from qiskit_ibm_runtime import QiskitRuntimeService\n",
    "\n",
    "token = '4c635c9b66b0ab2f37ce29d7bc33edc66f815847092ba236aa79748304b2cd4bbba6c35d8a4a6adc9b579b1990cfa8066f5220cbdc29044dc9bd59f1c1e1ea1b'\n",
    "instance = 'ibm-q/open/main'\n",
    "\n",
    "service = QiskitRuntimeService(\n",
    "        channel='ibm_quantum',\n",
    "        instance=instance,\n",
    "        token=token\n",
    ")\n",
    "\n",
    "# Save your IBM Quantum API key in\n",
    "# ~/.qiskit/qiskit-ibm.json\n",
    "service.save_account(channel=\"ibm_quantum\", \n",
    "                                  token=token,\n",
    "                                  overwrite=True)"
   ]
  },
  {
   "cell_type": "markdown",
   "metadata": {},
   "source": [
    "## Define the Quantum Circuit (qc)"
   ]
  },
  {
   "cell_type": "code",
   "execution_count": null,
   "metadata": {},
   "outputs": [
    {
     "name": "stdout",
     "output_type": "stream",
     "text": [
      "      ┌───┐                    \n",
      " q_0: ┤ H ├──■─────────────────\n",
      "      ├───┤┌─┴─┐               \n",
      " q_1: ┤ H ├┤ X ├──■────────────\n",
      "      ├───┤└───┘┌─┴─┐          \n",
      " q_2: ┤ H ├─────┤ X ├──■───────\n",
      "      ├───┤     └───┘┌─┴─┐     \n",
      " q_3: ┤ H ├──────────┤ X ├──■──\n",
      "      ├───┤          └───┘┌─┴─┐\n",
      " q_4: ┤ H ├───────────────┤ X ├\n",
      "      └───┘               └───┘\n",
      "c4: 5/═════════════════════════\n",
      "                               \n"
     ]
    }
   ],
   "source": [
    "from qiskit import QuantumCircuit, ClassicalRegister\n",
    "\n",
    "def create_quantum_circuit(num_qubits):\n",
    "    qc = QuantumCircuit(num_qubits)\n",
    "    # Apply Hadamard gate to each qubit\n",
    "    for i in range(num_qubits):\n",
    "        qc.h(i)\n",
    "    # Apply CNOT gate between each pair of qubits\n",
    "    for i in range(num_qubits - 1):\n",
    "        qc.cx(i, i + 1)\n",
    "    # Add classical registers and measurements\n",
    "    cr = ClassicalRegister(num_qubits)\n",
    "    qc.add_register(cr)\n",
    "    qc.measure(range(num_qubits), range(num_qubits))\n",
    "    return qc\n",
    "\n",
    "# Specify the number of qubits\n",
    "num_qubits = 6  # Change this value as needed\n",
    "qc = create_quantum_circuit(num_qubits)\n",
    "\n",
    "print(qc)"
   ]
  },
  {
   "cell_type": "markdown",
   "metadata": {},
   "source": [
    "### Print out the IBM Quantum details: instances and backends \n",
    "- to be used for Testing quality of backends at different qubit sizes"
   ]
  },
  {
   "cell_type": "code",
   "execution_count": 181,
   "metadata": {},
   "outputs": [
    {
     "name": "stdout",
     "output_type": "stream",
     "text": [
      "['ibm-q/open/main']\n",
      "[<IBMBackend('ibm_sherbrooke')>, <IBMBackend('ibm_kyiv')>, <IBMBackend('ibm_brisbane')>]\n",
      "backend_names = ['ibm_sherbrooke', 'ibm_kyiv', 'ibm_brisbane']\n"
     ]
    }
   ],
   "source": [
    "print(service.instances())\n",
    "print(service.backends())\n",
    "\n",
    "print(f\"backend_names = {[backend.name for backend in service.backends()]}\")"
   ]
  },
  {
   "cell_type": "markdown",
   "metadata": {},
   "source": [
    "## Run the program across the QuantumCircuit(qc) and Backends defined above\n",
    "- uses the service() account logged into at the top with the given token\n",
    "- token should be saved in ~/.qiskit/"
   ]
  },
  {
   "cell_type": "code",
   "execution_count": 182,
   "metadata": {},
   "outputs": [
    {
     "ename": "ImportError",
     "evalue": "cannot import name 'Aer' from 'qiskit' (/home/jbedell/anaconda3/envs/pyenv-eigen/lib/python3.13/site-packages/qiskit/__init__.py)",
     "output_type": "error",
     "traceback": [
      "\u001b[0;31m---------------------------------------------------------------------------\u001b[0m",
      "\u001b[0;31mImportError\u001b[0m                               Traceback (most recent call last)",
      "Cell \u001b[0;32mIn[182], line 3\u001b[0m\n\u001b[1;32m      1\u001b[0m \u001b[38;5;66;03m#from qiskit_ibm_runtime import Sampler # old Sampler\u001b[39;00m\n\u001b[1;32m      2\u001b[0m \u001b[38;5;66;03m#from qiskit.primitives import StatevectorSampler   # new Sampler, with quasi_dists\u001b[39;00m\n\u001b[0;32m----> 3\u001b[0m \u001b[38;5;28;01mfrom\u001b[39;00m \u001b[38;5;21;01mqiskit\u001b[39;00m \u001b[38;5;28;01mimport\u001b[39;00m Aer, execute\n\u001b[1;32m      4\u001b[0m \u001b[38;5;28;01mfrom\u001b[39;00m \u001b[38;5;21;01mqiskit\u001b[39;00m\u001b[38;5;21;01m.\u001b[39;00m\u001b[38;5;21;01mquantum_info\u001b[39;00m \u001b[38;5;28;01mimport\u001b[39;00m Statevector\n\u001b[1;32m      5\u001b[0m \u001b[38;5;28;01mfrom\u001b[39;00m \u001b[38;5;21;01mqiskit\u001b[39;00m\u001b[38;5;21;01m.\u001b[39;00m\u001b[38;5;21;01mtranspiler\u001b[39;00m\u001b[38;5;21;01m.\u001b[39;00m\u001b[38;5;21;01mpreset_passmanagers\u001b[39;00m \u001b[38;5;28;01mimport\u001b[39;00m generate_preset_pass_manager\n",
      "\u001b[0;31mImportError\u001b[0m: cannot import name 'Aer' from 'qiskit' (/home/jbedell/anaconda3/envs/pyenv-eigen/lib/python3.13/site-packages/qiskit/__init__.py)"
     ]
    }
   ],
   "source": [
    "from qiskit_ibm_runtime import Sampler # old Sampler\n",
    "#from qiskit.primitives import StatevectorSampler   # new Sampler, with quasi_dists\n",
    "from qiskit.quantum_info import Statevector\n",
    "from qiskit.transpiler.preset_passmanagers import generate_preset_pass_manager\n",
    "\n",
    "# List of backend names\n",
    "backend_names = ['ibm_brisbane', 'ibm_sherbrooke', 'ibm_kyiv']  # Replace with your list of backends\n",
    "\n",
    "def run_program(backend_name, qc):\n",
    "    try:\n",
    "        # Get the backendsimulator = Aer.get_backend('statevector_simulator')\n",
    "\n",
    "        backend = service.backend(backend_name)\n",
    "        # Set up pass_manager for backend\n",
    "        pass_manager = generate_preset_pass_manager(optimization_level=1, backend=backend)\n",
    "\n",
    "        # Run pass_manager through transpiler\n",
    "        qc_transpiled = pass_manager.run(qc)\n",
    "\n",
    "        # Run the Sampler job\n",
    "        sampler = Sampler() # old Sampler\n",
    "        job = sampler.run(pubs=[qc_transpiled])\n",
    "        \n",
    "        return job.job_id()\n",
    "    \n",
    "    except Exception as e:\n",
    "        print(f\"Error running program on backend {backend_name}: {e}\")\n",
    "        return None\n",
    "\n",
    "# Run the jobs on the backends and capture job_id and backend_name\n",
    "jobs_backend = []\n",
    "for backend_name in backend_names:\n",
    "    print(f\"Submitting to: {backend_name}\")\n",
    "    job_id = run_program(backend_name, qc)\n",
    "    if job_id:\n",
    "        jobs_backend.append((job_id, backend_name))\n",
    "        print(f\"Job ID: {job_id}\")\n",
    "    else:\n",
    "        print(f\"Failed to submit job to {backend_name}\")\n",
    "\n",
    "print(f\"jobs_backend = {jobs_backend}\")"
   ]
  },
  {
   "cell_type": "markdown",
   "metadata": {},
   "source": [
    "### When programs are finished, call the job_ids and compare results"
   ]
  },
  {
   "cell_type": "code",
   "execution_count": 185,
   "metadata": {},
   "outputs": [
    {
     "name": "stdout",
     "output_type": "stream",
     "text": [
      "SamplerPubResult(data=DataBin(c3=BitArray(<shape=(), num_shots=4096, num_bits=6>)), metadata={'circuit_metadata': {}})\n",
      "{'111010': 66, '101111': 88, '101000': 79, '000100': 62, '000010': 76, '100000': 75, '101100': 82, '101110': 78, '111111': 68, '010111': 48, '011111': 49, '111001': 64, '011101': 42, '001110': 68, '110111': 51, '000101': 83, '101010': 74, '001000': 78, '100011': 76, '100001': 83, '110011': 48, '000110': 91, '010110': 33, '010101': 48, '100111': 89, '111110': 67, '001011': 83, '000001': 64, '001111': 77, '000111': 85, '000000': 77, '110101': 42, '110100': 47, '111100': 58, '110010': 74, '011000': 37, '011011': 54, '010010': 41, '111011': 76, '111000': 38, '011001': 51, '100101': 76, '010100': 45, '111101': 63, '001100': 70, '100100': 58, '101001': 74, '100110': 83, '101101': 76, '110110': 51, '000011': 77, '010001': 36, '010011': 37, '001101': 77, '100010': 76, '001010': 82, '110001': 59, '011100': 35, '001001': 81, '010000': 47, '011010': 54, '110000': 57, '011110': 43, '101011': 69}\n"
     ]
    }
   ],
   "source": [
    "\n",
    "job_id = 'cxxe56w4a290008xzse0' # old sampler style\n",
    "result = service.job(job_id).result()[0] \n",
    "print(result)\n",
    "print(f\"{result.data.c3.get_counts()}\")  # corrected access to data attribute\n",
    "#print(f\"{result.quasi_dists}\") # new sampler style"
   ]
  },
  {
   "cell_type": "code",
   "execution_count": 188,
   "metadata": {},
   "outputs": [
    {
     "name": "stdout",
     "output_type": "stream",
     "text": [
      "        ibm_sherbrooke  ibm_brisbane  ibm_kyiv\n",
      "111010        0.016113      0.017822  0.015869\n",
      "101111        0.021484      0.018799  0.014648\n",
      "101000        0.019287      0.010254  0.014648\n",
      "000100        0.015137      0.015137  0.014648\n",
      "000010        0.018555      0.012451  0.011475\n",
      "...                ...           ...       ...\n",
      "010000        0.011475      0.014648  0.014404\n",
      "011010        0.013184      0.016602  0.014404\n",
      "110000        0.013916      0.011475  0.015137\n",
      "011110        0.010498      0.020996  0.015625\n",
      "101011        0.016846      0.016357  0.015381\n",
      "\n",
      "[64 rows x 3 columns]\n"
     ]
    },
    {
     "data": {
      "image/png": "[encoded data removed]",
      "text/plain": [
       "<Figure size 1000x600 with 1 Axes>"
      ]
     },
     "metadata": {},
     "output_type": "display_data"
    }
   ],
   "source": [
    "import pandas as pd\n",
    "import matplotlib.pyplot as plt\n",
    "from qiskit.quantum_info import state_fidelity, Statevector\n",
    "import time\n",
    "\n",
    "# Normalize counts to probabilities\n",
    "def normalize_counts(counts):\n",
    "    total = sum(counts.values())\n",
    "    return {key: val / total for key, val in counts.items()}\n",
    "\n",
    "# Function to check job status and retrieve results\n",
    "def get_job_result(job_id):\n",
    "    try:\n",
    "        job = service.job(job_id)\n",
    "        while job.status() not in ['DONE', 'CANCELLED', 'ERROR']:\n",
    "            print(f\"Job {job_id} status: {job.status()}\")\n",
    "            time.sleep(10)  # Wait for 10 seconds before checking the status again\n",
    "        if job.status() == 'DONE':\n",
    "            result = job.result()\n",
    "            counts = result[0].data.c3.get_counts()\n",
    "            normalized_counts = normalize_counts(counts)\n",
    "            return normalized_counts\n",
    "        else:\n",
    "            print(f\"Job {job_id} failed with status: {job.status()}\")\n",
    "            return None\n",
    "    except Exception as e:\n",
    "        print(f\"Error retrieving result for job {job_id}: {e}\")\n",
    "        return None\n",
    "\n",
    "# Retrieve the results\n",
    "results = {}\n",
    "for job_id, backend_name in jobs_backend:\n",
    "    counts = get_job_result(job_id)\n",
    "    if counts:\n",
    "        results[backend_name] = counts\n",
    "\n",
    "# Convert results to a DataFrame\n",
    "df = pd.DataFrame(results)\n",
    "\n",
    "# Display the results as a table\n",
    "print(df)\n",
    "\n",
    "# Plot the results\n",
    "df.plot(kind='bar', figsize=(10, 6))\n",
    "plt.xlabel('Measurement Outcome')\n",
    "plt.ylabel('Counts')\n",
    "plt.title('Measurement Outcomes on Different Backends')\n",
    "plt.show()\n",
    "\n",
    "# Calculate and display fidelity between the results of different backends\n",
    "ideal_backend = backend_names[0]\n",
    "ideal_counts = results.get(ideal_backend)\n"
   ]
  },
  {
   "cell_type": "code",
   "execution_count": 194,
   "metadata": {},
   "outputs": [
    {
     "name": "stdout",
     "output_type": "stream",
     "text": [
      "Jensen-Shannon Distance ibm_brisbane vs ibm_sherbrooke: 0.12247247580198901\n",
      "Jensen-Shannon Distance ibm_brisbane vs ibm_kyiv: 0.09032319021112371\n",
      "Jensen-Shannon Distance ibm_sherbrooke vs ibm_kyiv: 0.10639794625830552\n"
     ]
    }
   ],
   "source": [
    "from scipy.spatial.distance import jensenshannon\n",
    "\n",
    "# Calculate and display Jensen-Shannon distance between the results of all backends\n",
    "for i in range(len(backend_names)):\n",
    "    for j in range(i + 1, len(backend_names)):\n",
    "        backend_name_1 = backend_names[i]\n",
    "        backend_name_2 = backend_names[j]\n",
    "        if backend_name_1 in results and backend_name_2 in results:\n",
    "            counts_1 = results.get(backend_name_1)\n",
    "            counts_2 = results.get(backend_name_2)\n",
    "            # Compare the probability distributions\n",
    "            distance = jensenshannon(list(counts_1.values()), list(counts_2.values()))\n",
    "            print(f\"Jensen-Shannon Distance {backend_name_1} vs {backend_name_2}: {distance}\")\n"
   ]
  }
 ],
 "metadata": {
  "kernelspec": {
   "display_name": "pyenv-eigen",
   "language": "python",
   "name": "python3"
  },
  "language_info": {
   "codemirror_mode": {
    "name": "ipython",
    "version": 3
   },
   "file_extension": ".py",
   "mimetype": "text/x-python",
   "name": "python",
   "nbconvert_exporter": "python",
   "pygments_lexer": "ipython3",
   "version": "3.13.1"
  }
 },
 "nbformat": 4,
 "nbformat_minor": 2
}
