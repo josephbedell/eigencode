{
 "cells": [
  {
   "cell_type": "code",
   "execution_count": 18,
   "metadata": {},
   "outputs": [],
   "source": [
    "from qiskit_ibm_runtime import QiskitRuntimeService\n",
    "\n",
    "token = '4c635c9b66b0ab2f37ce29d7bc33edc66f815847092ba236aa79748304b2cd4bbba6c35d8a4a6adc9b579b1990cfa8066f5220cbdc29044dc9bd59f1c1e1ea1b'\n",
    "instance = 'ibm-q/open/main'\n",
    "\n",
    "service = QiskitRuntimeService(\n",
    "        channel='ibm_quantum',\n",
    "        instance=instance,\n",
    "        token=token\n",
    ")"
   ]
  },
  {
   "cell_type": "code",
   "execution_count": 65,
   "metadata": {},
   "outputs": [
    {
     "name": "stdout",
     "output_type": "stream",
     "text": [
      "      ┌───┐          ┌─┐                      \n",
      " q_0: ┤ H ├──■───────┤M├──────────────────────\n",
      "      ├───┤┌─┴─┐     └╥┘     ┌─┐              \n",
      " q_1: ┤ H ├┤ X ├──■───╫──────┤M├──────────────\n",
      "      ├───┤└───┘┌─┴─┐ ║      └╥┘     ┌─┐      \n",
      " q_2: ┤ H ├─────┤ X ├─╫───■───╫──────┤M├──────\n",
      "      ├───┤     └───┘ ║ ┌─┴─┐ ║      └╥┘┌─┐   \n",
      " q_3: ┤ H ├───────────╫─┤ X ├─╫───■───╫─┤M├───\n",
      "      ├───┤           ║ └───┘ ║ ┌─┴─┐ ║ └╥┘┌─┐\n",
      " q_4: ┤ H ├───────────╫───────╫─┤ X ├─╫──╫─┤M├\n",
      "      └───┘           ║       ║ └───┘ ║  ║ └╥┘\n",
      "c2: 5/════════════════╩═══════╩═══════╩══╩══╩═\n",
      "                      0       1       2  3  4 \n"
     ]
    }
   ],
   "source": [
    "from qiskit import QuantumCircuit, ClassicalRegister\n",
    "\n",
    "def create_quantum_circuit(num_qubits):\n",
    "    qc = QuantumCircuit(num_qubits)\n",
    "    # Apply Hadamard gate to each qubit\n",
    "    for i in range(num_qubits):\n",
    "        qc.h(i)\n",
    "    # Apply CNOT gate between each pair of qubits\n",
    "    for i in range(num_qubits - 1):\n",
    "        qc.cx(i, i + 1)\n",
    "    # Add classical registers and measurements\n",
    "    cr = ClassicalRegister(num_qubits)\n",
    "    qc.add_register(cr)\n",
    "    qc.measure(range(num_qubits), range(num_qubits))\n",
    "    return qc\n",
    "\n",
    "# Specify the number of qubits\n",
    "num_qubits = 5  # Change this value as needed\n",
    "qc = create_quantum_circuit(num_qubits)\n",
    "\n",
    "print(qc)"
   ]
  },
  {
   "cell_type": "code",
   "execution_count": 66,
   "metadata": {},
   "outputs": [
    {
     "name": "stdout",
     "output_type": "stream",
     "text": [
      "['ibm-q/open/main']\n",
      "[<IBMBackend('ibm_brisbane')>, <IBMBackend('ibm_sherbrooke')>, <IBMBackend('ibm_kyiv')>]\n"
     ]
    }
   ],
   "source": [
    "print(service.instances())\n",
    "print(service.backends())"
   ]
  },
  {
   "cell_type": "code",
   "execution_count": 67,
   "metadata": {},
   "outputs": [
    {
     "name": "stdout",
     "output_type": "stream",
     "text": [
      "<IBMBackend('ibm_brisbane')>\n",
      "<RuntimeJobV2('cxwd5pe4a290008xxd80', 'sampler')>\n",
      "cxwd5pe4a290008xxd80\n"
     ]
    }
   ],
   "source": [
    "from qiskit_ibm_runtime import Session, Sampler\n",
    "from qiskit.transpiler.preset_passmanagers import generate_preset_pass_manager\n",
    "from qiskit.quantum_info import state_fidelity\n",
    "from qiskit_ibm_runtime import RuntimeJob\n",
    "\n",
    "# List of backends to iterate through\n",
    "# Get the list of available backends\n",
    "#backends = ['ibm_brisbane', 'ibm_sherbrooke', 'ibm_kyiv']\n",
    "#backends =service.backends()\n",
    "#print(backends)\n",
    "\n",
    "backend_names = ['ibm_brisbane', 'ibm_sherbrooke', 'ibm_kyiv']\n",
    "\n",
    "# Ideal state vector (assuming the ideal backend is the first one in the list)\n",
    "backend = service.backend(backend_names[0])\n",
    "print(backend)\n",
    "pass_Manager = generate_preset_pass_manager(optimization_level=1, backend=backend)\n",
    "\n",
    "# Run it thru pass_Manager transpiler (post 3/2024)\n",
    "qc_transpiled = pass_Manager.run(qc)\n",
    "\n",
    "# Run the Sampler job\n",
    "sampler = Sampler(mode=backend)\n",
    "job = sampler.run(pubs=[qc_transpiled])\n",
    "print(job)\n",
    "job_id = job.job_id()\n",
    "print(job_id)"
   ]
  },
  {
   "cell_type": "code",
   "execution_count": 73,
   "metadata": {},
   "outputs": [
    {
     "name": "stdout",
     "output_type": "stream",
     "text": [
      "<RuntimeJobV2('cxwd5pe4a290008xxd80', 'sampler')>\n",
      "PrimitiveResult([SamplerPubResult(data=DataBin(c2=BitArray(<shape=(), num_shots=4096, num_bits=5>)), metadata={'circuit_metadata': {}})], metadata={'execution': {'execution_spans': ExecutionSpans([SliceSpan(<start='2025-01-04 06:19:08', stop='2025-01-04 06:22:09', size=4096>)])}, 'version': 2})\n",
      "The result of the submitted job had 1 PUB and has a value:\n",
      " PrimitiveResult([SamplerPubResult(data=DataBin(c2=BitArray(<shape=(), num_shots=4096, num_bits=5>)), metadata={'circuit_metadata': {}})], metadata={'execution': {'execution_spans': ExecutionSpans([SliceSpan(<start='2025-01-04 06:19:08', stop='2025-01-04 06:22:09', size=4096>)])}, 'version': 2})\n",
      "\n",
      "The associated PubResult of this Sampler job has the following DataBins:\n",
      " DataBin(c2=BitArray(<shape=(), num_shots=4096, num_bits=5>))\n",
      "\n",
      "It has a key-value pair dict: \n",
      "dict_items([('c2', BitArray(<shape=(), num_shots=4096, num_bits=5>))])\n",
      "\n",
      "The classical register of the circuit is: ClassicalRegister(5, 'c2')\n",
      "And the raw data can be converted to a bitstring-count format: \n",
      "{'11001': 118, '01110': 171, '00000': 109, '10100': 116, '10110': 147, '00101': 137, '00011': 126, '11010': 126, '11000': 86, '11101': 158, '00111': 153, '11110': 170, '01001': 108, '01111': 147, '10111': 133, '00110': 149, '11011': 123, '10101': 125, '11100': 142, '00001': 116, '00100': 103, '10001': 103, '11111': 141, '01100': 140, '10000': 100, '01000': 110, '01011': 127, '00010': 121, '10010': 118, '01010': 93, '01101': 160, '10011': 120}\n"
     ]
    }
   ],
   "source": [
    "job_id = 'cxwd5pe4a290008xxd80' #'cxwc3r70827000847rj0' 'cxwc9cdy1ae0008na54g' 'cxwce280827000847sc0'\n",
    "# Get the result\n",
    "job = service.job(job_id)\n",
    "print(job)\n",
    "\n",
    "result = job.result()\n",
    "print(result)\n",
    "\n",
    "print(\n",
    "    f\"The result of the submitted job had {len(result)} PUB and has a value:\\n {result}\\n\"\n",
    ")\n",
    "print(\n",
    "    f\"The associated PubResult of this Sampler job has the following DataBins:\\n {result[0].data}\\n\"\n",
    ")\n",
    "print(f\"It has a key-value pair dict: \\n{result[0].data.items()}\\n\")\n",
    "cr = qc.cregs[0]\n",
    "print(f\"The classical register of the circuit is: {cr}\")\n",
    "print(f\"And the raw data can be converted to a bitstring-count format: \\n{result[0].data.c2.get_counts()}\")"
   ]
  },
  {
   "cell_type": "code",
   "execution_count": null,
   "metadata": {},
   "outputs": [],
   "source": [
    "\n",
    "\n",
    "\n",
    "# Ideal state vector (assuming the ideal backend is the first one in the list)\n",
    "ideal_backend = backends[0]\n",
    "print(f\"Ideal backend: {ideal_backend}\")\n",
    "with Session(backend=ideal_backend) as session:\n",
    "    sampler = Sampler(mode=session)\n",
    "    job = sampler.run(pubs=[qc])\n",
    "    ideal_result = job.result()\n",
    "    ideal_statevector = ideal_result.get_statevector()\n",
    "\n",
    "# Store results\n",
    "results = []\n",
    "\n",
    "# Iterate through the backends and compare results\n",
    "for backend_name in backends:\n",
    "    with Session(service=service, backend=backend_name) as session:\n",
    "        sampler = Sampler(mode=session)\n",
    "        job = sampler.run(pubs=qc)\n",
    "        result = job.result()\n",
    "        prepared_statevector = result.get_statevector()\n",
    "        \n",
    "        # Calculate fidelity\n",
    "        fidelity = state_fidelity(ideal_statevector, prepared_statevector)\n",
    "        results.append((backend_name, fidelity))\n",
    "\n",
    "# Display results\n",
    "import pandas as pd\n",
    "\n",
    "df = pd.DataFrame(results, columns=['Backend', 'Fidelity'])\n",
    "print(df)"
   ]
  },
  {
   "cell_type": "code",
   "execution_count": null,
   "metadata": {},
   "outputs": [],
   "source": [
    "import matplotlib.pyplot as plt\n",
    "\n",
    "# Display the results as a table\n",
    "print(df)\n",
    "\n",
    "# Plot the results\n",
    "plt.figure(figsize=(10, 6))\n",
    "plt.bar(df['Backend'], df['Fidelity'], color='blue')\n",
    "plt.xlabel('Backend')\n",
    "plt.ylabel('Fidelity')\n",
    "plt.title('Fidelity of Quantum Circuit Execution on Different Backends')\n",
    "plt.show()"
   ]
  },
  {
   "cell_type": "code",
   "execution_count": null,
   "metadata": {},
   "outputs": [],
   "source": []
  }
 ],
 "metadata": {
  "kernelspec": {
   "display_name": "pyenv-eigen",
   "language": "python",
   "name": "python3"
  },
  "language_info": {
   "codemirror_mode": {
    "name": "ipython",
    "version": 3
   },
   "file_extension": ".py",
   "mimetype": "text/x-python",
   "name": "python",
   "nbconvert_exporter": "python",
   "pygments_lexer": "ipython3",
   "version": "3.13.1"
  }
 },
 "nbformat": 4,
 "nbformat_minor": 2
}
