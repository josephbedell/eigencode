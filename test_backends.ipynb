{
 "cells": [
  {
   "cell_type": "code",
   "execution_count": 201,
   "metadata": {},
   "outputs": [],
   "source": [
    "from qiskit_ibm_runtime import QiskitRuntimeService\n",
    "\n",
    "token = '4c635c9b66b0ab2f37ce29d7bc33edc66f815847092ba236aa79748304b2cd4bbba6c35d8a4a6adc9b579b1990cfa8066f5220cbdc29044dc9bd59f1c1e1ea1b'\n",
    "instance = 'ibm-q/open/main'\n",
    "\n",
    "service = QiskitRuntimeService(\n",
    "        channel='ibm_quantum',\n",
    "        instance=instance,\n",
    "        token=token\n",
    ")\n",
    "\n",
    "# Save your IBM Quantum API key in\n",
    "# ~/.qiskit/qiskit-ibm.json\n",
    "service.save_account(channel=\"ibm_quantum\", \n",
    "                                  token=token,\n",
    "                                  overwrite=True)"
   ]
  },
  {
   "cell_type": "markdown",
   "metadata": {},
   "source": [
    "## Define the Quantum Circuit (qc)"
   ]
  },
  {
   "cell_type": "code",
   "execution_count": 203,
   "metadata": {},
   "outputs": [
    {
     "name": "stdout",
     "output_type": "stream",
     "text": [
      "      ┌───┐          ┌─┐      \n",
      " q_0: ┤ H ├──■───────┤M├──────\n",
      "      ├───┤┌─┴─┐     └╥┘┌─┐   \n",
      " q_1: ┤ H ├┤ X ├──■───╫─┤M├───\n",
      "      ├───┤└───┘┌─┴─┐ ║ └╥┘┌─┐\n",
      " q_2: ┤ H ├─────┤ X ├─╫──╫─┤M├\n",
      "      └───┘     └───┘ ║  ║ └╥┘\n",
      "c8: 3/════════════════╩══╩══╩═\n",
      "                      0  1  2 \n"
     ]
    }
   ],
   "source": [
    "from qiskit import QuantumCircuit, ClassicalRegister\n",
    "\n",
    "# Creates a GHZ state with the specified number of qubits\n",
    "# should generate 2 states: (0)n + (1)n for n qubits\n",
    "#  e.g. n = 4, 0000 + 1111\n",
    "def create_quantum_circuit(num_qubits):\n",
    "    qc = QuantumCircuit(num_qubits)\n",
    "    # Apply Hadamard gate to each qubit\n",
    "    for i in range(num_qubits):\n",
    "        qc.h(i)\n",
    "    # Apply CNOT gate between each pair of qubits\n",
    "    for i in range(num_qubits - 1):\n",
    "        qc.cx(i, i + 1)\n",
    "    # Add classical registers and measurements\n",
    "    cr = ClassicalRegister(num_qubits)\n",
    "    qc.add_register(cr)\n",
    "    qc.measure(range(num_qubits), range(num_qubits))\n",
    "    return qc\n",
    "\n",
    "# Specify the number of qubits\n",
    "num_qubits = 3  # Change this value as needed\n",
    "qc = create_quantum_circuit(num_qubits)\n",
    "\n",
    "print(qc)"
   ]
  },
  {
   "cell_type": "markdown",
   "metadata": {},
   "source": [
    "### Print out the IBM Quantum details: instances and backends \n",
    "- to be used for Testing quality of backends at different qubit sizes"
   ]
  },
  {
   "cell_type": "code",
   "execution_count": 204,
   "metadata": {},
   "outputs": [
    {
     "name": "stdout",
     "output_type": "stream",
     "text": [
      "['ibm-q/open/main']\n"
     ]
    },
    {
     "name": "stdout",
     "output_type": "stream",
     "text": [
      "[<IBMBackend('ibm_brisbane')>, <IBMBackend('ibm_sherbrooke')>, <IBMBackend('ibm_kyiv')>]\n",
      "backend_names = ['ibm_brisbane', 'ibm_sherbrooke', 'ibm_kyiv']\n"
     ]
    }
   ],
   "source": [
    "print(service.instances())\n",
    "print(service.backends())\n",
    "\n",
    "print(f\"backend_names = {[backend.name for backend in service.backends()]}\")"
   ]
  },
  {
   "cell_type": "markdown",
   "metadata": {},
   "source": [
    "## Run the program across the QuantumCircuit(qc) and Backends defined above\n",
    "- uses the service() account logged into at the top with the given token\n",
    "- token should be saved in ~/.qiskit/"
   ]
  },
  {
   "cell_type": "code",
   "execution_count": 207,
   "metadata": {},
   "outputs": [
    {
     "name": "stdout",
     "output_type": "stream",
     "text": [
      "Submitting to: ibm_brisbane\n"
     ]
    },
    {
     "name": "stdout",
     "output_type": "stream",
     "text": [
      "Job ID: cxz1qs7wk6yg008j7jx0\n",
      "Submitting to: ibm_sherbrooke\n",
      "Job ID: cxz1qtzwk6yg008j7jy0\n",
      "Submitting to: ibm_kyiv\n",
      "Job ID: cxz1qx74a290008y4nf0\n",
      "jobs_backend = [('cxz1qs7wk6yg008j7jx0', 'ibm_brisbane'), ('cxz1qtzwk6yg008j7jy0', 'ibm_sherbrooke'), ('cxz1qx74a290008y4nf0', 'ibm_kyiv')]\n"
     ]
    }
   ],
   "source": [
    "from qiskit_ibm_runtime import Sampler\n",
    "from qiskit.transpiler.preset_passmanagers import generate_preset_pass_manager\n",
    "\n",
    "# List of backend names\n",
    "backend_names = ['ibm_brisbane', 'ibm_sherbrooke', 'ibm_kyiv']  # Replace with current list of backends\n",
    "\n",
    "def run_program(backend_name, qc):\n",
    "    try:\n",
    "        # Get the backendsimulator = Aer.get_backend('statevector_simulator')\n",
    "\n",
    "        backend = service.backend(backend_name)\n",
    "        # Set up pass_manager for backend\n",
    "        pass_manager = generate_preset_pass_manager(optimization_level=1, backend=backend)\n",
    "\n",
    "        # Run pass_manager through transpiler\n",
    "        qc_transpiled = pass_manager.run(qc)\n",
    "\n",
    "        # Run the Sampler job\n",
    "        sampler = Sampler(mode=backend)\n",
    "        job = sampler.run(pubs=[qc_transpiled])\n",
    "        \n",
    "        return job.job_id()\n",
    "    \n",
    "    except Exception as e:\n",
    "        print(f\"Error running program on backend {backend_name}: {e}\")\n",
    "        return None\n",
    "\n",
    "# Run the jobs on the backends and capture job_id and backend_name\n",
    "jobs_backend = []\n",
    "for backend_name in backend_names:\n",
    "    print(f\"Submitting to: {backend_name}\")\n",
    "    job_id = run_program(backend_name, qc)\n",
    "    if job_id:\n",
    "        jobs_backend.append((job_id, backend_name))\n",
    "        print(f\"Job ID: {job_id}\")\n",
    "    else:\n",
    "        print(f\"Failed to submit job to {backend_name}\")\n",
    "\n",
    "print(f\"jobs_backend = {jobs_backend}\")"
   ]
  },
  {
   "cell_type": "markdown",
   "metadata": {},
   "source": [
    "### When programs are finished, call the job_ids and compare results"
   ]
  },
  {
   "cell_type": "code",
   "execution_count": 215,
   "metadata": {},
   "outputs": [
    {
     "name": "stdout",
     "output_type": "stream",
     "text": [
      "ibm_brisbane:\n",
      "\tcxz1qs7wk6yg008j7jx0 - DONE\n",
      "ibm_sherbrooke:\n",
      "\tcxz1qtzwk6yg008j7jy0 - DONE\n",
      "SamplerPubResult(data=DataBin(c8=BitArray(<shape=(), num_shots=4096, num_bits=3>)), metadata={'circuit_metadata': {}})\n",
      "{'000': 553, '101': 468, '010': 506, '110': 502, '100': 485, '001': 567, '011': 516, '111': 499}\n",
      "ibm_kyiv:\n",
      "\tcxz1qx74a290008y4nf0 - DONE\n",
      "SamplerPubResult(data=DataBin(c8=BitArray(<shape=(), num_shots=4096, num_bits=3>)), metadata={'circuit_metadata': {}})\n",
      "{'101': 552, '001': 488, '000': 526, '110': 499, '111': 525, '011': 505, '010': 502, '100': 499}\n"
     ]
    }
   ],
   "source": [
    "# 3-bit circuit, GHZ state\n",
    "jobs_backend = [('cxz1qs7wk6yg008j7jx0', 'ibm_brisbane'), ('cxz1qtzwk6yg008j7jy0', 'ibm_sherbrooke'), ('cxz1qx74a290008y4nf0', 'ibm_kyiv')]\n",
    "\n",
    "# quick peak\n",
    "for job_id, backend_name in jobs_backend:\n",
    "    print(f\"{backend_name}:\\n\\t{job_id} - {job.status()}\")\n",
    "    #if backend_name == 'ibm_brisbane':  # skip this one\n",
    "    #    continue\n",
    "    result = service.job(job_id).result()[0] \n",
    "    print(result)\n",
    "    print(f\"{result.data.c8.get_counts()}\")  # corrected access to data attribute"
   ]
  },
  {
   "cell_type": "markdown",
   "metadata": {},
   "source": [
    "### Get results for all backends and normalize"
   ]
  },
  {
   "cell_type": "code",
   "execution_count": null,
   "metadata": {},
   "outputs": [
    {
     "name": "stdout",
     "output_type": "stream",
     "text": [
      "     ibm_sherbrooke  ibm_kyiv\n",
      "000        0.135010  0.128418\n",
      "101        0.114258  0.134766\n",
      "010        0.123535  0.122559\n",
      "110        0.122559  0.121826\n",
      "100        0.118408  0.121826\n",
      "001        0.138428  0.119141\n",
      "011        0.125977  0.123291\n",
      "111        0.121826  0.128174\n"
     ]
    },
    {
     "data": {
      "image/png": "[encoded data removed]",
      "text/plain": [
       "<Figure size 1000x600 with 1 Axes>"
      ]
     },
     "metadata": {},
     "output_type": "display_data"
    }
   ],
   "source": [
    "import pandas as pd\n",
    "import matplotlib.pyplot as plt\n",
    "from qiskit.quantum_info import state_fidelity, Statevector\n",
    "import time\n",
    "\n",
    "# Normalize counts to probabilities\n",
    "def normalize_counts(counts):\n",
    "    total = sum(counts.values())\n",
    "    return {key: val / total for key, val in counts.items()}\n",
    "\n",
    "# Function to check job status and retrieve results\n",
    "def get_job_result(job_id):\n",
    "    try:\n",
    "        job = service.job(job_id)\n",
    "        while job.status() not in ['DONE', 'CANCELLED', 'ERROR']:\n",
    "            print(f\"Job {job_id} status: {job.status()}\")\n",
    "            time.sleep(10)  # Wait for 10 seconds before checking the status again\n",
    "        if job.status() == 'DONE':\n",
    "            result = job.result()\n",
    "            counts = result[0].data.c8.get_counts()\n",
    "            normalized_counts = normalize_counts(counts)\n",
    "            return normalized_counts\n",
    "        else:\n",
    "            print(f\"Job {job_id} failed with status: {job.status()}\")\n",
    "            return None\n",
    "    except Exception as e:\n",
    "        print(f\"Error retrieving result for job {job_id}: {e}\")\n",
    "        return None\n",
    "\n",
    "# Retrieve the results\n",
    "results = {}\n",
    "for job_id, backend_name in jobs_backend:\n",
    "    #if backend_name == 'ibm_brisbane':  # skip this one\n",
    "    #    continue\n",
    "    counts = get_job_result(job_id)\n",
    "    if counts:\n",
    "        results[backend_name] = counts\n",
    "\n",
    "# Convert results to a DataFrame\n",
    "df = pd.DataFrame(results)\n",
    "\n",
    "# Display the results as a table\n",
    "print(df)\n",
    "\n",
    "# Plot the results\n",
    "df.plot(kind='bar', figsize=(10, 6))\n",
    "plt.xlabel('Measurement Outcome')\n",
    "plt.ylabel('Counts')\n",
    "plt.title('Measurement Outcomes on Different Backends')\n",
    "plt.show()\n",
    "\n",
    "# Calculate and display fidelity between the results of different backends\n",
    "ideal_backend = backend_names[0]\n",
    "ideal_counts = results.get(ideal_backend)\n"
   ]
  },
  {
   "cell_type": "markdown",
   "metadata": {},
   "source": [
    "### Print out the GHZ fidelity for each result\n",
    "- ideally = 1.00"
   ]
  },
  {
   "cell_type": "code",
   "execution_count": 217,
   "metadata": {},
   "outputs": [
    {
     "name": "stdout",
     "output_type": "stream",
     "text": [
      "Fidelity with ideal state for ibm_sherbrooke: 0.26\n",
      "Fidelity with ideal state for ibm_kyiv: 0.26\n"
     ]
    }
   ],
   "source": [
    "def ghz_fidelity(experimental_counts, num_qubits):\n",
    "    ideal_bitstrings = ['0' * num_qubits, '1' * num_qubits]\n",
    "    experimental_probs = normalize_counts(experimental_counts)\n",
    "    fidelity = sum(experimental_probs.get(bitstring, 0) for bitstring in ideal_bitstrings)\n",
    "    return fidelity\n",
    "\n",
    "# Print out fidelity of each reult\n",
    "for backend_name, counts in results.items():\n",
    "    fidelity = ghz_fidelity(counts, num_qubits)\n",
    "    print(f\"Fidelity with ideal state for {backend_name}: {fidelity:.2f}\") "
   ]
  },
  {
   "cell_type": "code",
   "execution_count": null,
   "metadata": {},
   "outputs": [],
   "source": []
  }
 ],
 "metadata": {
  "kernelspec": {
   "display_name": "pyenv-eigen",
   "language": "python",
   "name": "python3"
  },
  "language_info": {
   "codemirror_mode": {
    "name": "ipython",
    "version": 3
   },
   "file_extension": ".py",
   "mimetype": "text/x-python",
   "name": "python",
   "nbconvert_exporter": "python",
   "pygments_lexer": "ipython3",
   "version": "3.13.1"
  }
 },
 "nbformat": 4,
 "nbformat_minor": 2
}
