{
 "cells": [
  {
   "cell_type": "code",
   "execution_count": 74,
   "metadata": {},
   "outputs": [],
   "source": [
    "from qiskit_ibm_runtime import QiskitRuntimeService\n",
    "\n",
    "token = '4c635c9b66b0ab2f37ce29d7bc33edc66f815847092ba236aa79748304b2cd4bbba6c35d8a4a6adc9b579b1990cfa8066f5220cbdc29044dc9bd59f1c1e1ea1b'\n",
    "instance = 'ibm-q/open/main'\n",
    "\n",
    "service = QiskitRuntimeService(\n",
    "        channel='ibm_quantum',\n",
    "        instance=instance,\n",
    "        token=token\n",
    ")\n",
    "\n",
    "# Save your IBM Quantum API key in\n",
    "# ~/.qiskit/qiskit-ibm.json\n",
    "service.save_account(channel=\"ibm_quantum\", \n",
    "                                  token=token,\n",
    "                                  overwrite=True)"
   ]
  },
  {
   "cell_type": "markdown",
   "metadata": {},
   "source": [
    "## Define the Quantum Circuit (qc)"
   ]
  },
  {
   "cell_type": "code",
   "execution_count": 75,
   "metadata": {},
   "outputs": [
    {
     "name": "stdout",
     "output_type": "stream",
     "text": [
      "      ┌───┐          ┌─┐                              \n",
      " q_0: ┤ H ├──■───────┤M├──────────────────────────────\n",
      "      ├───┤┌─┴─┐     └╥┘     ┌─┐                      \n",
      " q_1: ┤ H ├┤ X ├──■───╫──────┤M├──────────────────────\n",
      "      ├───┤└───┘┌─┴─┐ ║      └╥┘     ┌─┐              \n",
      " q_2: ┤ H ├─────┤ X ├─╫───■───╫──────┤M├──────────────\n",
      "      ├───┤     └───┘ ║ ┌─┴─┐ ║      └╥┘     ┌─┐      \n",
      " q_3: ┤ H ├───────────╫─┤ X ├─╫───■───╫──────┤M├──────\n",
      "      ├───┤           ║ └───┘ ║ ┌─┴─┐ ║      └╥┘┌─┐   \n",
      " q_4: ┤ H ├───────────╫───────╫─┤ X ├─╫───■───╫─┤M├───\n",
      "      ├───┤           ║       ║ └───┘ ║ ┌─┴─┐ ║ └╥┘┌─┐\n",
      " q_5: ┤ H ├───────────╫───────╫───────╫─┤ X ├─╫──╫─┤M├\n",
      "      └───┘           ║       ║       ║ └───┘ ║  ║ └╥┘\n",
      "c3: 6/════════════════╩═══════╩═══════╩═══════╩══╩══╩═\n",
      "                      0       1       2       3  4  5 \n"
     ]
    }
   ],
   "source": [
    "from qiskit import QuantumCircuit, ClassicalRegister\n",
    "\n",
    "def create_quantum_circuit(num_qubits):\n",
    "    qc = QuantumCircuit(num_qubits)\n",
    "    # Apply Hadamard gate to each qubit\n",
    "    for i in range(num_qubits):\n",
    "        qc.h(i)\n",
    "    # Apply CNOT gate between each pair of qubits\n",
    "    for i in range(num_qubits - 1):\n",
    "        qc.cx(i, i + 1)\n",
    "    # Add classical registers and measurements\n",
    "    cr = ClassicalRegister(num_qubits)\n",
    "    qc.add_register(cr)\n",
    "    qc.measure(range(num_qubits), range(num_qubits))\n",
    "    return qc\n",
    "\n",
    "# Specify the number of qubits\n",
    "num_qubits = 6  # Change this value as needed\n",
    "qc = create_quantum_circuit(num_qubits)\n",
    "\n",
    "print(qc)"
   ]
  },
  {
   "cell_type": "markdown",
   "metadata": {},
   "source": [
    "### Print out the IBM Quantum details: instances and backends \n",
    "- to be used for Testing quality of backends at different qubit sizes"
   ]
  },
  {
   "cell_type": "code",
   "execution_count": 115,
   "metadata": {},
   "outputs": [
    {
     "name": "stdout",
     "output_type": "stream",
     "text": [
      "['ibm-q/open/main']\n",
      "[<IBMBackend('ibm_sherbrooke')>, <IBMBackend('ibm_kyiv')>, <IBMBackend('ibm_brisbane')>]\n",
      "backend_names = ['ibm_sherbrooke', 'ibm_kyiv', 'ibm_brisbane']\n"
     ]
    }
   ],
   "source": [
    "print(service.instances())\n",
    "print(service.backends())\n",
    "\n",
    "print(f\"backend_names = {[backend.name for backend in service.backends()]}\")"
   ]
  },
  {
   "cell_type": "markdown",
   "metadata": {},
   "source": [
    "## Run the Sampler program across the QuantumCircuit(qc) and Backends defined above\n",
    "- uses the service() account logged into at the top with the given token\n",
    "- token should be saved in ~/.qiskit/"
   ]
  },
  {
   "cell_type": "code",
   "execution_count": 164,
   "metadata": {},
   "outputs": [
    {
     "name": "stdout",
     "output_type": "stream",
     "text": [
      "Submitting to: ibm_brisbane\n",
      "Job ID: eaa28388-340e-4a8d-9ead-3d1394c999a6\n",
      "Submitting to: ibm_sherbrooke\n",
      "Job ID: 342f95ff-6219-4fed-8e33-15c02379d779\n",
      "Submitting to: ibm_kyiv\n",
      "Job ID: 735d7e16-11e6-491f-aebc-17087e4bb619\n",
      "jobs_backend = [('eaa28388-340e-4a8d-9ead-3d1394c999a6', 'ibm_brisbane'), ('342f95ff-6219-4fed-8e33-15c02379d779', 'ibm_sherbrooke'), ('735d7e16-11e6-491f-aebc-17087e4bb619', 'ibm_kyiv')]\n"
     ]
    }
   ],
   "source": [
    "from qiskit_ibm_runtime import Sampler # old Sampler\n",
    "#from qiskit.primitives import StatevectorSampler   # new Sampler, with quasi_dists\n",
    "from qiskit.transpiler.preset_passmanagers import generate_preset_pass_manager\n",
    "\n",
    "# List of backend names\n",
    "backend_names = ['ibm_brisbane', 'ibm_sherbrooke', 'ibm_kyiv']  # Replace with your list of backends\n",
    "\n",
    "def run_program(backend_name, qc):\n",
    "    try:\n",
    "        # Get the backend\n",
    "        backend = service.backend(backend_name)\n",
    "        # Set up pass_manager for backend\n",
    "        pass_manager = generate_preset_pass_manager(optimization_level=1, backend=backend)\n",
    "\n",
    "        # Run pass_manager through transpiler\n",
    "        qc_transpiled = pass_manager.run(qc)\n",
    "\n",
    "        # Run the Sampler job\n",
    "        sampler = Sampler() # old Sampler\n",
    "        #sampler = StatevectorSampler() # new Sampler\n",
    "        job = sampler.run(pubs=[qc_transpiled])\n",
    "        \n",
    "        return job.job_id()\n",
    "    except Exception as e:\n",
    "        print(f\"Error running program on backend {backend_name}: {e}\")\n",
    "        return None\n",
    "\n",
    "# Run the jobs on the backends and capture job_id and backend_name\n",
    "jobs_backend = []\n",
    "for backend_name in backend_names:\n",
    "    print(f\"Submitting to: {backend_name}\")\n",
    "    job_id = run_program(backend_name, qc)\n",
    "    if job_id:\n",
    "        jobs_backend.append((job_id, backend_name))\n",
    "        print(f\"Job ID: {job_id}\")\n",
    "    else:\n",
    "        print(f\"Failed to submit job to {backend_name}\")\n",
    "\n",
    "print(f\"jobs_backend = {jobs_backend}\")"
   ]
  },
  {
   "cell_type": "markdown",
   "metadata": {},
   "source": [
    "### When programs are finished, call the job_ids and compare results"
   ]
  },
  {
   "cell_type": "code",
   "execution_count": 170,
   "metadata": {},
   "outputs": [
    {
     "name": "stdout",
     "output_type": "stream",
     "text": [
      "SamplerPubResult(data=DataBin(c3=BitArray(<shape=(), num_shots=4096, num_bits=6>)), metadata={'circuit_metadata': {}})\n",
      "{'111010': 66, '101111': 88, '101000': 79, '000100': 62, '000010': 76, '100000': 75, '101100': 82, '101110': 78, '111111': 68, '010111': 48, '011111': 49, '111001': 64, '011101': 42, '001110': 68, '110111': 51, '000101': 83, '101010': 74, '001000': 78, '100011': 76, '100001': 83, '110011': 48, '000110': 91, '010110': 33, '010101': 48, '100111': 89, '111110': 67, '001011': 83, '000001': 64, '001111': 77, '000111': 85, '000000': 77, '110101': 42, '110100': 47, '111100': 58, '110010': 74, '011000': 37, '011011': 54, '010010': 41, '111011': 76, '111000': 38, '011001': 51, '100101': 76, '010100': 45, '111101': 63, '001100': 70, '100100': 58, '101001': 74, '100110': 83, '101101': 76, '110110': 51, '000011': 77, '010001': 36, '010011': 37, '001101': 77, '100010': 76, '001010': 82, '110001': 59, '011100': 35, '001001': 81, '010000': 47, '011010': 54, '110000': 57, '011110': 43, '101011': 69}\n"
     ]
    }
   ],
   "source": [
    "# pub_result = job_result[<idx>].data.<classical register>.get_counts()\n",
    "#\n",
    "# where <idx> is the index of the pub and <classical register> is the name of the classical register. \n",
    "# You can use circuit.cregs to find the name of the classical registers.\n",
    "\n",
    "job_id = 'cxxe56w4a290008xzse0' # old sampler style\n",
    "#job_id = ''# new sampler style\n",
    "result = service.job(job_id).result()[0] \n",
    "print(result)\n",
    "print(f\"{result.data.c3.get_counts()}\")  # corrected access to data attribute\n",
    "#print(f\"{result.quasi_dists}\") # new sampler style"
   ]
  },
  {
   "cell_type": "code",
   "execution_count": 173,
   "metadata": {},
   "outputs": [
    {
     "name": "stdout",
     "output_type": "stream",
     "text": [
      "        ibm_sherbrooke  ibm_brisbane  ibm_kyiv\n",
      "111010              66            73        65\n",
      "101111              88            77        60\n",
      "101000              79            42        60\n",
      "000100              62            62        60\n",
      "000010              76            51        47\n",
      "...                ...           ...       ...\n",
      "010000              47            60        59\n",
      "011010              54            68        59\n",
      "110000              57            47        62\n",
      "011110              43            86        64\n",
      "101011              69            67        63\n",
      "\n",
      "[64 rows x 3 columns]\n"
     ]
    },
    {
     "data": {
      "image/png": "[encoded data removed]",
      "text/plain": [
       "<Figure size 1000x600 with 1 Axes>"
      ]
     },
     "metadata": {},
     "output_type": "display_data"
    }
   ],
   "source": [
    "import pandas as pd\n",
    "import matplotlib.pyplot as plt\n",
    "from qiskit.quantum_info import state_fidelity, Statevector\n",
    "import time\n",
    "\n",
    "# Function to check job status and retrieve results\n",
    "def get_job_result(job_id):\n",
    "    try:\n",
    "        job = service.job(job_id)\n",
    "        while job.status() not in ['DONE', 'CANCELLED', 'ERROR']:\n",
    "            print(f\"Job {job_id} status: {job.status()}\")\n",
    "            time.sleep(10)  # Wait for 10 seconds before checking the status again\n",
    "        if job.status() == 'DONE':\n",
    "            result = job.result()\n",
    "            counts = result[0].data.c3.get_counts()\n",
    "            return counts\n",
    "        else:\n",
    "            print(f\"Job {job_id} failed with status: {job.status()}\")\n",
    "            return None\n",
    "    except Exception as e:\n",
    "        print(f\"Error retrieving result for job {job_id}: {e}\")\n",
    "        return None\n",
    "\n",
    "# Retrieve the results\n",
    "results = {}\n",
    "for job_id, backend_name in jobs_backend:\n",
    "    counts = get_job_result(job_id)\n",
    "    if counts:\n",
    "        results[backend_name] = counts\n",
    "\n",
    "# Convert results to a DataFrame\n",
    "df = pd.DataFrame(results)\n",
    "\n",
    "# Display the results as a table\n",
    "print(df)\n",
    "\n",
    "# Plot the results\n",
    "df.plot(kind='bar', figsize=(10, 6))\n",
    "plt.xlabel('Measurement Outcome')\n",
    "plt.ylabel('Counts')\n",
    "plt.title('Measurement Outcomes on Different Backends')\n",
    "plt.show()\n",
    "\n",
    "# Calculate and display fidelity between the results of different backends\n",
    "ideal_backend = backend_names[0]\n",
    "ideal_counts = results.get(ideal_backend)\n"
   ]
  },
  {
   "cell_type": "code",
   "execution_count": 178,
   "metadata": {},
   "outputs": [
    {
     "ename": "AttributeError",
     "evalue": "'property' object has no attribute 'from_counts'",
     "output_type": "error",
     "traceback": [
      "\u001b[0;31m---------------------------------------------------------------------------\u001b[0m",
      "\u001b[0;31mAttributeError\u001b[0m                            Traceback (most recent call last)",
      "Cell \u001b[0;32mIn[178], line 12\u001b[0m\n\u001b[1;32m      9\u001b[0m \u001b[38;5;28;01mfor\u001b[39;00m backend_name \u001b[38;5;129;01min\u001b[39;00m backend_names[\u001b[38;5;241m1\u001b[39m:]:\n\u001b[1;32m     10\u001b[0m     \u001b[38;5;28;01mif\u001b[39;00m backend_name \u001b[38;5;129;01min\u001b[39;00m results:\n\u001b[1;32m     11\u001b[0m         \u001b[38;5;66;03m# Convert counts to state vectors\u001b[39;00m\n\u001b[0;32m---> 12\u001b[0m         ideal_statevector \u001b[38;5;241m=\u001b[39m \u001b[43mStatevector\u001b[49m\u001b[38;5;241;43m.\u001b[39;49m\u001b[43mdata\u001b[49m\u001b[38;5;241;43m.\u001b[39;49m\u001b[43mfrom_counts\u001b[49m(ideal_counts)\n\u001b[1;32m     13\u001b[0m         backend_statevector \u001b[38;5;241m=\u001b[39m Statevector\u001b[38;5;241m.\u001b[39mfrom_counts(results[backend_name])\n\u001b[1;32m     14\u001b[0m         fidelity \u001b[38;5;241m=\u001b[39m state_fidelity(ideal_statevector, backend_statevector)\n",
      "\u001b[0;31mAttributeError\u001b[0m: 'property' object has no attribute 'from_counts'"
     ]
    }
   ],
   "source": [
    "from qiskit.quantum_info import state_fidelity, Statevector\n",
    "\n",
    "# Calculate and display fidelity between the results of different backends\n",
    "ideal_backend = backend_names[0]\n",
    "ideal_counts = results.get(ideal_backend)\n",
    "\n",
    "if ideal_counts:\n",
    "    fidelities = {}\n",
    "    for backend_name in backend_names[1:]:\n",
    "        if backend_name in results:\n",
    "            # Convert counts to state vectors\n",
    "            ideal_statevector = Statevector.data.from_counts(ideal_counts)\n",
    "            backend_statevector = Statevector.from_counts(results[backend_name])\n",
    "            fidelity = state_fidelity(ideal_statevector, backend_statevector)\n",
    "            fidelities[backend_name] = fidelity\n",
    "\n",
    "    print(f\"Fidelities compared to {ideal_backend}:\")\n",
    "    for backend_name, fidelity in fidelities.items():\n",
    "        print(f\"{backend_name}: {fidelity}\")\n",
    "else:\n",
    "    print(f\"No results available for the ideal backend: {ideal_backend}\")"
   ]
  },
  {
   "cell_type": "code",
   "execution_count": null,
   "metadata": {},
   "outputs": [],
   "source": [
    "#jobs_backend = [('cxwq5gp4a290008xy8g0', 'ibm_brisbane'), ('cxwq5hywk6yg008j15e0', 'ibm_sherbrooke'), ('cxwq5ke4a290008xy8gg', 'ibm_kyiv')]\n",
    "# Submitting to: ibm_brisbane\n",
    "# Job ID: cxxe54m082700084a6p0\n",
    "# Submitting to: ibm_sherbrooke\n",
    "# Job ID: cxxe56w4a290008xzse0\n",
    "# Submitting to: ibm_kyiv\n",
    "# Job ID: cxxe58n0v1500080mc20\n",
    "jobs_backend = [('cxxe54m082700084a6p0', 'ibm_brisbane'), ('cxxe56w4a290008xzse0', 'ibm_sherbrooke'), ('cxxe58n0v1500080mc20', 'ibm_kyiv')]"
   ]
  },
  {
   "cell_type": "code",
   "execution_count": null,
   "metadata": {},
   "outputs": [],
   "source": []
  }
 ],
 "metadata": {
  "kernelspec": {
   "display_name": "pyenv-eigen",
   "language": "python",
   "name": "python3"
  },
  "language_info": {
   "codemirror_mode": {
    "name": "ipython",
    "version": 3
   },
   "file_extension": ".py",
   "mimetype": "text/x-python",
   "name": "python",
   "nbconvert_exporter": "python",
   "pygments_lexer": "ipython3",
   "version": "3.13.1"
  }
 },
 "nbformat": 4,
 "nbformat_minor": 2
}
